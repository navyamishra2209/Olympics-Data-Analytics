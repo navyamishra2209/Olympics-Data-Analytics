{
 "cells": [
  {
   "cell_type": "code",
   "execution_count": 273,
   "id": "d199006b",
   "metadata": {},
   "outputs": [],
   "source": [
    "# This is my project on Data Analytics"
   ]
  },
  {
   "cell_type": "code",
   "execution_count": 274,
   "id": "b63eddc0",
   "metadata": {},
   "outputs": [],
   "source": [
    "import numpy as np\n",
    "import pandas as pd\n",
    "import matplotlib.pyplot as plt\n",
    "import seaborn as sns\n",
    "%matplotlib inline"
   ]
  },
  {
   "cell_type": "code",
   "execution_count": 275,
   "id": "2896f92b",
   "metadata": {},
   "outputs": [],
   "source": [
    "# Database\n",
    "olympics = pd.read_csv(\"C:/Users/navya/Downloads/All Year Olympic Dataset (with 2020 Tokyo Olympics).csv\")"
   ]
  },
  {
   "cell_type": "code",
   "execution_count": 276,
   "id": "1271c4a3",
   "metadata": {},
   "outputs": [
    {
     "data": {
      "text/html": [
       "<div>\n",
       "<style scoped>\n",
       "    .dataframe tbody tr th:only-of-type {\n",
       "        vertical-align: middle;\n",
       "    }\n",
       "\n",
       "    .dataframe tbody tr th {\n",
       "        vertical-align: top;\n",
       "    }\n",
       "\n",
       "    .dataframe thead th {\n",
       "        text-align: right;\n",
       "    }\n",
       "</style>\n",
       "<table border=\"1\" class=\"dataframe\">\n",
       "  <thead>\n",
       "    <tr style=\"text-align: right;\">\n",
       "      <th></th>\n",
       "      <th>Unnamed: 0</th>\n",
       "      <th>Age</th>\n",
       "      <th>Year</th>\n",
       "      <th>Medal</th>\n",
       "    </tr>\n",
       "  </thead>\n",
       "  <tbody>\n",
       "    <tr>\n",
       "      <th>count</th>\n",
       "      <td>275643.000000</td>\n",
       "      <td>266169.000000</td>\n",
       "      <td>275643.000000</td>\n",
       "      <td>275643.000000</td>\n",
       "    </tr>\n",
       "    <tr>\n",
       "      <th>mean</th>\n",
       "      <td>133368.348810</td>\n",
       "      <td>25.657364</td>\n",
       "      <td>1979.062048</td>\n",
       "      <td>0.300867</td>\n",
       "    </tr>\n",
       "    <tr>\n",
       "      <th>std</th>\n",
       "      <td>79446.745789</td>\n",
       "      <td>6.494015</td>\n",
       "      <td>30.099768</td>\n",
       "      <td>0.782901</td>\n",
       "    </tr>\n",
       "    <tr>\n",
       "      <th>min</th>\n",
       "      <td>0.000000</td>\n",
       "      <td>10.000000</td>\n",
       "      <td>1896.000000</td>\n",
       "      <td>0.000000</td>\n",
       "    </tr>\n",
       "    <tr>\n",
       "      <th>25%</th>\n",
       "      <td>64383.500000</td>\n",
       "      <td>21.000000</td>\n",
       "      <td>1960.000000</td>\n",
       "      <td>0.000000</td>\n",
       "    </tr>\n",
       "    <tr>\n",
       "      <th>50%</th>\n",
       "      <td>133294.000000</td>\n",
       "      <td>25.000000</td>\n",
       "      <td>1988.000000</td>\n",
       "      <td>0.000000</td>\n",
       "    </tr>\n",
       "    <tr>\n",
       "      <th>75%</th>\n",
       "      <td>202204.500000</td>\n",
       "      <td>28.000000</td>\n",
       "      <td>2004.000000</td>\n",
       "      <td>0.000000</td>\n",
       "    </tr>\n",
       "    <tr>\n",
       "      <th>max</th>\n",
       "      <td>271115.000000</td>\n",
       "      <td>97.000000</td>\n",
       "      <td>2020.000000</td>\n",
       "      <td>3.000000</td>\n",
       "    </tr>\n",
       "  </tbody>\n",
       "</table>\n",
       "</div>"
      ],
      "text/plain": [
       "          Unnamed: 0            Age           Year          Medal\n",
       "count  275643.000000  266169.000000  275643.000000  275643.000000\n",
       "mean   133368.348810      25.657364    1979.062048       0.300867\n",
       "std     79446.745789       6.494015      30.099768       0.782901\n",
       "min         0.000000      10.000000    1896.000000       0.000000\n",
       "25%     64383.500000      21.000000    1960.000000       0.000000\n",
       "50%    133294.000000      25.000000    1988.000000       0.000000\n",
       "75%    202204.500000      28.000000    2004.000000       0.000000\n",
       "max    271115.000000      97.000000    2020.000000       3.000000"
      ]
     },
     "execution_count": 276,
     "metadata": {},
     "output_type": "execute_result"
    }
   ],
   "source": [
    "olympics.describe()"
   ]
  },
  {
   "cell_type": "code",
   "execution_count": 277,
   "id": "6b680b2c",
   "metadata": {},
   "outputs": [
    {
     "name": "stdout",
     "output_type": "stream",
     "text": [
      "<class 'pandas.core.frame.DataFrame'>\n",
      "RangeIndex: 275643 entries, 0 to 275642\n",
      "Data columns (total 10 columns):\n",
      " #   Column      Non-Null Count   Dtype  \n",
      "---  ------      --------------   -----  \n",
      " 0   Unnamed: 0  275643 non-null  int64  \n",
      " 1   Name        275643 non-null  object \n",
      " 2   Sex         275643 non-null  object \n",
      " 3   Age         266169 non-null  float64\n",
      " 4   Team        275643 non-null  object \n",
      " 5   Games       275643 non-null  object \n",
      " 6   Year        275643 non-null  int64  \n",
      " 7   Season      275643 non-null  object \n",
      " 8   Sport       275643 non-null  object \n",
      " 9   Medal       275643 non-null  int64  \n",
      "dtypes: float64(1), int64(3), object(6)\n",
      "memory usage: 21.0+ MB\n"
     ]
    }
   ],
   "source": [
    "olympics.info()"
   ]
  },
  {
   "cell_type": "code",
   "execution_count": 278,
   "id": "4e870ebf",
   "metadata": {},
   "outputs": [
    {
     "data": {
      "text/html": [
       "<div>\n",
       "<style scoped>\n",
       "    .dataframe tbody tr th:only-of-type {\n",
       "        vertical-align: middle;\n",
       "    }\n",
       "\n",
       "    .dataframe tbody tr th {\n",
       "        vertical-align: top;\n",
       "    }\n",
       "\n",
       "    .dataframe thead th {\n",
       "        text-align: right;\n",
       "    }\n",
       "</style>\n",
       "<table border=\"1\" class=\"dataframe\">\n",
       "  <thead>\n",
       "    <tr style=\"text-align: right;\">\n",
       "      <th></th>\n",
       "      <th>Unnamed: 0</th>\n",
       "      <th>Name</th>\n",
       "      <th>Sex</th>\n",
       "      <th>Age</th>\n",
       "      <th>Team</th>\n",
       "      <th>Games</th>\n",
       "      <th>Year</th>\n",
       "      <th>Season</th>\n",
       "      <th>Sport</th>\n",
       "      <th>Medal</th>\n",
       "    </tr>\n",
       "  </thead>\n",
       "  <tbody>\n",
       "    <tr>\n",
       "      <th>0</th>\n",
       "      <td>0</td>\n",
       "      <td>A Dijiang</td>\n",
       "      <td>M</td>\n",
       "      <td>24.0</td>\n",
       "      <td>China</td>\n",
       "      <td>1992 Summer</td>\n",
       "      <td>1992</td>\n",
       "      <td>Summer</td>\n",
       "      <td>Basketball</td>\n",
       "      <td>0</td>\n",
       "    </tr>\n",
       "    <tr>\n",
       "      <th>1</th>\n",
       "      <td>1</td>\n",
       "      <td>A Lamusi</td>\n",
       "      <td>M</td>\n",
       "      <td>23.0</td>\n",
       "      <td>China</td>\n",
       "      <td>2012 Summer</td>\n",
       "      <td>2012</td>\n",
       "      <td>Summer</td>\n",
       "      <td>Judo</td>\n",
       "      <td>0</td>\n",
       "    </tr>\n",
       "    <tr>\n",
       "      <th>2</th>\n",
       "      <td>2</td>\n",
       "      <td>Gunnar Nielsen Aaby</td>\n",
       "      <td>M</td>\n",
       "      <td>24.0</td>\n",
       "      <td>Denmark</td>\n",
       "      <td>1920 Summer</td>\n",
       "      <td>1920</td>\n",
       "      <td>Summer</td>\n",
       "      <td>Football</td>\n",
       "      <td>0</td>\n",
       "    </tr>\n",
       "    <tr>\n",
       "      <th>3</th>\n",
       "      <td>3</td>\n",
       "      <td>Edgar Lindenau Aabye</td>\n",
       "      <td>M</td>\n",
       "      <td>34.0</td>\n",
       "      <td>Denmark/Sweden</td>\n",
       "      <td>1900 Summer</td>\n",
       "      <td>1900</td>\n",
       "      <td>Summer</td>\n",
       "      <td>Tug-Of-War</td>\n",
       "      <td>3</td>\n",
       "    </tr>\n",
       "    <tr>\n",
       "      <th>4</th>\n",
       "      <td>4</td>\n",
       "      <td>Christine Jacoba Aaftink</td>\n",
       "      <td>F</td>\n",
       "      <td>21.0</td>\n",
       "      <td>Netherlands</td>\n",
       "      <td>1988 Winter</td>\n",
       "      <td>1988</td>\n",
       "      <td>Winter</td>\n",
       "      <td>Speed Skating</td>\n",
       "      <td>0</td>\n",
       "    </tr>\n",
       "  </tbody>\n",
       "</table>\n",
       "</div>"
      ],
      "text/plain": [
       "   Unnamed: 0                      Name Sex   Age            Team  \\\n",
       "0           0                 A Dijiang   M  24.0           China   \n",
       "1           1                  A Lamusi   M  23.0           China   \n",
       "2           2       Gunnar Nielsen Aaby   M  24.0         Denmark   \n",
       "3           3      Edgar Lindenau Aabye   M  34.0  Denmark/Sweden   \n",
       "4           4  Christine Jacoba Aaftink   F  21.0     Netherlands   \n",
       "\n",
       "         Games  Year  Season          Sport  Medal  \n",
       "0  1992 Summer  1992  Summer     Basketball      0  \n",
       "1  2012 Summer  2012  Summer           Judo      0  \n",
       "2  1920 Summer  1920  Summer       Football      0  \n",
       "3  1900 Summer  1900  Summer     Tug-Of-War      3  \n",
       "4  1988 Winter  1988  Winter  Speed Skating      0  "
      ]
     },
     "execution_count": 278,
     "metadata": {},
     "output_type": "execute_result"
    }
   ],
   "source": [
    "olympics.head()"
   ]
  },
  {
   "cell_type": "code",
   "execution_count": 279,
   "id": "fce5cf7b",
   "metadata": {},
   "outputs": [],
   "source": [
    "# get names of all the sports\n",
    "# get players who belong to Guyana and took part in athletics\n",
    "# from the all year olympics table, show names in one column and number of olympics they participated in\n",
    "# from the all year olympics table, find the total number of medals a sports person has earned in olympics\n",
    "# find the total number of males and females who participated, also show the total\n",
    "# from the all year olympics table, find the number of medals earned by USA"
   ]
  },
  {
   "cell_type": "code",
   "execution_count": 280,
   "id": "c9a19699",
   "metadata": {},
   "outputs": [
    {
     "data": {
      "text/plain": [
       "array(['Basketball', 'Judo', 'Football', 'Tug-Of-War', 'Speed Skating',\n",
       "       'Cross Country Skiing', 'Athletics', 'Ice Hockey', 'Swimming',\n",
       "       'Badminton', 'Sailing', 'Biathlon', 'Gymnastics',\n",
       "       'Art Competitions', 'Alpine Skiing', 'Handball', 'Weightlifting',\n",
       "       'Wrestling', 'Luge', 'Water Polo', 'Hockey', 'Rowing', 'Bobsleigh',\n",
       "       'Fencing', 'Equestrianism', 'Shooting', 'Boxing', 'Taekwondo',\n",
       "       'Cycling', 'Diving', 'Canoeing', 'Tennis', 'Modern Pentathlon',\n",
       "       'Figure Skating', 'Golf', 'Softball', 'Archery', 'Volleyball',\n",
       "       'Synchronized Swimming', 'Table Tennis', 'Nordic Combined',\n",
       "       'Baseball', 'Rhythmic Gymnastics', 'Freestyle Skiing',\n",
       "       'Rugby Sevens', 'Trampolining', 'Beach Volleyball', 'Triathlon',\n",
       "       'Ski Jumping', 'Curling', 'Snowboarding', 'Rugby',\n",
       "       'Short Track Speed Skating', 'Skeleton', 'Lacrosse', 'Polo',\n",
       "       'Cricket', 'Racquets', 'Motorboating', 'Military Ski Patrol',\n",
       "       'Croquet', 'Jeu De Paume', 'Roque', 'Alpinism', 'Basque Pelota',\n",
       "       'Aeronautics', 'Wheelchair Basketball', 'Sitting Volleyball',\n",
       "       'Powerlifting', 'Canoe Sprint', 'Wheelchair Fencing',\n",
       "       'Cycling Road', 'Cycling Track', 'Football 5-a-side', 'Equestrian',\n",
       "       'Boccia', 'Goalball', 'Wheelchair Tennis', 'Wheelchair Rugby'],\n",
       "      dtype=object)"
      ]
     },
     "execution_count": 280,
     "metadata": {},
     "output_type": "execute_result"
    }
   ],
   "source": [
    "# get names of all the sports\n",
    "olympics_players = olympics[\"Sport\"]\n",
    "olympics_players.unique()"
   ]
  },
  {
   "cell_type": "code",
   "execution_count": 281,
   "id": "daf790d0",
   "metadata": {},
   "outputs": [
    {
     "name": "stdout",
     "output_type": "stream",
     "text": [
      "None\n"
     ]
    }
   ],
   "source": [
    "# get players who belong to Guyana and took part in athletics\n",
    "guyana = pd.read_csv(\"C:/Users/navya/Downloads/Athletes.csv\")\n",
    "guyana_filter = olympics[\"Team\"] == \"Guyana\"\n",
    "athletics_filter = olympics[\"Sport\"] == \"Athletics\"\n",
    "guyana_athletics  = olympics.where(guyana_filter & athletics_filter,inplace = True)\n",
    "print(guyana_athletics)"
   ]
  },
  {
   "cell_type": "code",
   "execution_count": 282,
   "id": "93e26cd4",
   "metadata": {},
   "outputs": [
    {
     "name": "stdout",
     "output_type": "stream",
     "text": [
      "Aliann Tabitha Omalara Pompey           4\n",
      "Oslen McGregor Barr                     3\n",
      "Jennifer Innis                          3\n",
      "Earl Haley                              2\n",
      "Lancelot Gittens                        2\n",
      "Charles C. F. O. Thompson               2\n",
      "Brenessa Thompson                       2\n",
      "Claudette Izel Masdammer (-Humphrey)    2\n",
      "Richard Jones                           2\n",
      "Oliver Stanford Hunter                  2\n",
      "Clayton M. Glasgow                      2\n",
      "Paul Tucker                             2\n",
      "Winston Oudkerk George                  2\n",
      "Marian Joan Burnett                     2\n",
      "James Wren Gilkes                       2\n",
      "Roger L. Gill                           1\n",
      "Marilyn A. Dewarder                     1\n",
      "Brenda Archer                           1\n",
      "Jeremy Bascom                           1\n",
      "Ian Roberts                             1\n",
      "Harry Prowell                           1\n",
      "Mark Mason                              1\n",
      "George De Peana                         1\n",
      "Nicola Martial                          1\n",
      "Troy Doris                              1\n",
      "Najuma \"Nancy\" Fletcher                 1\n",
      "Desmond Hector                          1\n",
      "Andrew Harry                            1\n",
      "Adam Scott Harris                       1\n",
      "Curt Hampstead                          1\n",
      "Charles Tyrone Allen                    1\n",
      "June Marcia Griffith (-Collison)        1\n",
      "Ralph Gomes                             1\n",
      "Aliyah Abrams                           1\n",
      "dtype: int64\n"
     ]
    }
   ],
   "source": [
    "# from the all year olympics table, show names in one column and number of olympics they participated in\n",
    "athlete_names = olympics[\"Name\"]\n",
    "name_count = pd.value_counts(np.array(athlete_names))\n",
    "print(name_count)"
   ]
  },
  {
   "cell_type": "code",
   "execution_count": 283,
   "id": "45ba05f7",
   "metadata": {},
   "outputs": [
    {
     "data": {
      "text/plain": [
       "(5884, 5432, 11316)"
      ]
     },
     "execution_count": 283,
     "metadata": {},
     "output_type": "execute_result"
    }
   ],
   "source": [
    "# find the total number of males and females who participated, also show the total\n",
    "sex = pd.read_csv(\"C:/Users/navya/Downloads/EntriesGender.csv\")\n",
    "male = sex[\"Male\"].sum()\n",
    "female = sex[\"Female\"].sum()\n",
    "total = sex[\"Total\"].sum()\n",
    "male,female,total"
   ]
  }
 ],
 "metadata": {
  "kernelspec": {
   "display_name": "Python 3 (ipykernel)",
   "language": "python",
   "name": "python3"
  },
  "language_info": {
   "codemirror_mode": {
    "name": "ipython",
    "version": 3
   },
   "file_extension": ".py",
   "mimetype": "text/x-python",
   "name": "python",
   "nbconvert_exporter": "python",
   "pygments_lexer": "ipython3",
   "version": "3.9.7"
  }
 },
 "nbformat": 4,
 "nbformat_minor": 5
}
